{
 "cells": [
  {
   "cell_type": "code",
   "execution_count": null,
   "id": "dbe49dbb",
   "metadata": {
    "vscode": {
     "languageId": "plaintext"
    }
   },
   "outputs": [],
   "source": [
    "import {{ cookiecutter.__project_slug }}\n",
    "\n",
    "{{ cookiecutter.__project_slug }}.__version__"
   ]
  },
  {
   "cell_type": "code",
   "execution_count": null,
   "id": "50587d1d",
   "metadata": {
    "vscode": {
     "languageId": "plaintext"
    }
   },
   "outputs": [],
   "source": []
  }
 ],
 "metadata": {
  "language_info": {
   "name": "python"
  }
 },
 "nbformat": 4,
 "nbformat_minor": 5
}
